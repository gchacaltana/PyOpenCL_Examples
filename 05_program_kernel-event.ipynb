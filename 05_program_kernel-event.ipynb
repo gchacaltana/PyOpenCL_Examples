{
 "cells": [
  {
   "cell_type": "code",
   "execution_count": 1,
   "metadata": {},
   "outputs": [],
   "source": [
    "#!/usr/bin/env python\n",
    "# -*- coding: utf-8 -*-\n",
    "\n",
    "from __future__ import absolute_import, print_function\n",
    "import pyopencl as cl\n",
    "import numpy as np"
   ]
  },
  {
   "cell_type": "markdown",
   "metadata": {},
   "source": [
    "## Seleccionar plataforma y dispositivo a usar"
   ]
  },
  {
   "cell_type": "code",
   "execution_count": 9,
   "metadata": {},
   "outputs": [
    {
     "data": {
      "text/plain": [
       "[<pyopencl.Platform 'NVIDIA CUDA' at 0x556573a956f0>,\n",
       " <pyopencl.Platform 'Portable Computing Language' at 0x7f65a8600020>]"
      ]
     },
     "execution_count": 9,
     "metadata": {},
     "output_type": "execute_result"
    }
   ],
   "source": [
    "ID_P = 1\n",
    "ID_D = 0\n",
    "platforms = cl.get_platforms()\n",
    "list(platforms)"
   ]
  },
  {
   "cell_type": "code",
   "execution_count": 8,
   "metadata": {},
   "outputs": [
    {
     "data": {
      "text/plain": [
       "[<pyopencl.Device 'pthread-AMD Ryzen Threadripper 1950X 16-Core Processor' on 'Portable Computing Language' at 0x556573a8dd80>]"
      ]
     },
     "execution_count": 8,
     "metadata": {},
     "output_type": "execute_result"
    }
   ],
   "source": [
    "devices = [platforms[ID_P].get_devices()[ID_D]]\n",
    "list(devices)"
   ]
  },
  {
   "cell_type": "markdown",
   "metadata": {},
   "source": [
    "## Crear contexto y mostrar los dispositivos asignados "
   ]
  },
  {
   "cell_type": "code",
   "execution_count": 10,
   "metadata": {},
   "outputs": [
    {
     "data": {
      "text/plain": [
       "[<pyopencl.Device 'pthread-AMD Ryzen Threadripper 1950X 16-Core Processor' on 'Portable Computing Language' at 0x556573a8dd80>]"
      ]
     },
     "execution_count": 10,
     "metadata": {},
     "output_type": "execute_result"
    }
   ],
   "source": [
    "context = cl.Context(devices=devices,properties=[(cl.context_properties.PLATFORM, platforms[ID_P])])\n",
    "context.get_info(cl.context_info.DEVICES)"
   ]
  },
  {
   "cell_type": "markdown",
   "metadata": {},
   "source": [
    "## Creación de una cola de comandos"
   ]
  },
  {
   "cell_type": "code",
   "execution_count": 11,
   "metadata": {},
   "outputs": [
    {
     "data": {
      "text/plain": [
       "<pyopencl.Context at 0x556573a8b600 on <pyopencl.Device 'pthread-AMD Ryzen Threadripper 1950X 16-Core Processor' on 'Portable Computing Language' at 0x556573a8dd80>>"
      ]
     },
     "execution_count": 11,
     "metadata": {},
     "output_type": "execute_result"
    }
   ],
   "source": [
    "queue = cl.CommandQueue(context, properties=cl.command_queue_properties.OUT_OF_ORDER_EXEC_MODE_ENABLE)\n",
    "queue.get_info(cl.command_queue_info.CONTEXT)"
   ]
  },
  {
   "cell_type": "markdown",
   "metadata": {},
   "source": [
    "## Código fuente\n",
    "\n"
   ]
  },
  {
   "cell_type": "code",
   "execution_count": 12,
   "metadata": {},
   "outputs": [],
   "source": [
    "kernel='''\n",
    "__kernel void vector_mul(__global uchar *a, __global uchar *b, __global uchar *output){\n",
    "    \n",
    "    uint index = get_global_id(0);\n",
    "    output[index] = a[index]*b[index];\n",
    "}\n",
    "\n",
    "__kernel void vector_subtract(__global uchar *a, __global uchar *b, __global uchar *output){\n",
    "    \n",
    "    uint index = get_global_id(0);\n",
    "    output[index]+=0;\n",
    "    output[index] -= a[index]*b[index];\n",
    "}\n",
    "'''"
   ]
  },
  {
   "cell_type": "markdown",
   "metadata": {},
   "source": [
    "## Compilación del programa"
   ]
  },
  {
   "cell_type": "code",
   "execution_count": 13,
   "metadata": {},
   "outputs": [],
   "source": [
    "prg = cl.Program(context, kernel)\n",
    "exe = prg.build(options=[])"
   ]
  },
  {
   "cell_type": "markdown",
   "metadata": {},
   "source": [
    "## Inicialización de memoria en el host"
   ]
  },
  {
   "cell_type": "code",
   "execution_count": 19,
   "metadata": {},
   "outputs": [
    {
     "data": {
      "text/plain": [
       "array([ 93,  85,  29, ...,  29,  19, 113], dtype=uint8)"
      ]
     },
     "execution_count": 19,
     "metadata": {},
     "output_type": "execute_result"
    }
   ],
   "source": [
    "host_vector_a = np.random.randint(0,127,size=10*(2**20),dtype=np.uint8)\n",
    "host_vector_a"
   ]
  },
  {
   "cell_type": "code",
   "execution_count": 18,
   "metadata": {},
   "outputs": [
    {
     "data": {
      "text/plain": [
       "array([113,  45, 108, ..., 117,   0,   2], dtype=uint8)"
      ]
     },
     "execution_count": 18,
     "metadata": {},
     "output_type": "execute_result"
    }
   ],
   "source": [
    "host_vector_b = np.random.randint(0,127,size=10*(2**20),dtype=np.uint8)\n",
    "host_vector_b"
   ]
  },
  {
   "cell_type": "code",
   "execution_count": 20,
   "metadata": {},
   "outputs": [
    {
     "data": {
      "text/plain": [
       "array([0, 0, 0, ..., 0, 0, 0], dtype=uint8)"
      ]
     },
     "execution_count": 20,
     "metadata": {},
     "output_type": "execute_result"
    }
   ],
   "source": [
    "host_output = np.zeros_like(host_vector_a)\n",
    "host_output"
   ]
  },
  {
   "cell_type": "markdown",
   "metadata": {},
   "source": [
    "## Inicialización de memoria en el Dispositivo"
   ]
  },
  {
   "cell_type": "code",
   "execution_count": 21,
   "metadata": {},
   "outputs": [
    {
     "data": {
      "text/plain": [
       "<pyopencl._cl.Buffer at 0x7f659ab6b4d0>"
      ]
     },
     "execution_count": 21,
     "metadata": {},
     "output_type": "execute_result"
    }
   ],
   "source": [
    "device_vector_a = cl.Buffer(context, cl.mem_flags.READ_WRITE, size=host_vector_a.nbytes)\n",
    "device_vector_b = cl.Buffer(context, cl.mem_flags.READ_WRITE, size=host_vector_b.nbytes)\n",
    "device_output = cl.Buffer(context, cl.mem_flags.READ_WRITE, size=host_vector_b.nbytes)\n",
    "device_output"
   ]
  },
  {
   "cell_type": "markdown",
   "metadata": {},
   "source": [
    "## copiar datos del host al dispositivo"
   ]
  },
  {
   "cell_type": "code",
   "execution_count": 22,
   "metadata": {},
   "outputs": [
    {
     "data": {
      "text/plain": [
       "<pyopencl._cl.NannyEvent at 0x7f659ab6b1d0>"
      ]
     },
     "execution_count": 22,
     "metadata": {},
     "output_type": "execute_result"
    }
   ],
   "source": [
    "cl.enqueue_copy(queue, device_vector_a, host_vector_a, is_blocking=False, wait_for=None)\n",
    "cl.enqueue_copy(queue, device_vector_b, host_vector_b, is_blocking=False, wait_for=None)"
   ]
  },
  {
   "cell_type": "markdown",
   "metadata": {},
   "source": [
    "## Ejecución de los kernels"
   ]
  },
  {
   "cell_type": "code",
   "execution_count": 25,
   "metadata": {},
   "outputs": [
    {
     "name": "stdout",
     "output_type": "stream",
     "text": [
      "198761895\n",
      "216449771\n",
      "198682335\n",
      "228634861\n",
      "253745002\n",
      "223196771\n",
      "210322693\n",
      "276210453\n",
      "291280024\n",
      "154588534\n",
      "223803003\n",
      "277432065\n",
      "212980290\n",
      "325992873\n",
      "275889409\n",
      "233820391\n",
      "66796535\n",
      "238652164\n",
      "146819926\n",
      "247846186\n",
      "180724846\n",
      "190682054\n",
      "255475189\n",
      "249713270\n",
      "232952570\n",
      "220864417\n",
      "209844467\n",
      "0\n",
      "243547793\n",
      "208499020\n",
      "231080777\n",
      "335875794\n",
      "196807937\n",
      "181055301\n",
      "255596509\n",
      "262075248\n",
      "179787549\n",
      "222045477\n",
      "265053171\n",
      "320464013\n"
     ]
    }
   ],
   "source": [
    "# con wait_for = None\n",
    "for i in range(40):\n",
    "    add_event = exe.vector_mul(queue, host_vector_a.shape, None, device_vector_a, device_vector_b, device_output, wait_for=None)\n",
    "    sub_event = exe.vector_subtract(queue, host_vector_a.shape, None, device_vector_a, device_vector_b, device_output, wait_for=[add_event])\n",
    "    cl.enqueue_copy(queue, host_output, device_output, is_blocking=False, wait_for=None)\n",
    "    print(host_output.sum())"
   ]
  },
  {
   "cell_type": "code",
   "execution_count": 27,
   "metadata": {},
   "outputs": [
    {
     "name": "stdout",
     "output_type": "stream",
     "text": [
      "0\n",
      "0\n",
      "0\n",
      "0\n",
      "0\n",
      "0\n",
      "0\n",
      "0\n",
      "0\n",
      "0\n",
      "0\n",
      "0\n",
      "0\n",
      "0\n",
      "0\n",
      "0\n",
      "0\n",
      "0\n",
      "0\n",
      "0\n",
      "0\n",
      "0\n",
      "0\n",
      "0\n",
      "0\n",
      "0\n",
      "0\n",
      "0\n",
      "0\n",
      "0\n",
      "0\n",
      "0\n",
      "0\n",
      "0\n",
      "0\n",
      "0\n",
      "0\n",
      "0\n",
      "0\n",
      "0\n"
     ]
    }
   ],
   "source": [
    "# con wait_for=[sub_event]\n",
    "for i in range(40):\n",
    "    add_event = exe.vector_mul(queue, host_vector_a.shape, None, device_vector_a, device_vector_b, device_output, wait_for=None)\n",
    "    sub_event = exe.vector_subtract(queue, host_vector_a.shape, None, device_vector_a, device_vector_b, device_output, wait_for=[add_event])\n",
    "    cl.enqueue_copy(queue, host_output, device_output, is_blocking=False, wait_for=[sub_event])\n",
    "    print(host_output.sum())"
   ]
  }
 ],
 "metadata": {
  "kernelspec": {
   "display_name": "Python 3",
   "language": "python",
   "name": "python3"
  },
  "language_info": {
   "codemirror_mode": {
    "name": "ipython",
    "version": 3
   },
   "file_extension": ".py",
   "mimetype": "text/x-python",
   "name": "python",
   "nbconvert_exporter": "python",
   "pygments_lexer": "ipython3",
   "version": "3.7.4"
  }
 },
 "nbformat": 4,
 "nbformat_minor": 4
}
