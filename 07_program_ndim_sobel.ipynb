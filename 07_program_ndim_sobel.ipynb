{
 "cells": [
  {
   "cell_type": "code",
   "execution_count": null,
   "metadata": {},
   "outputs": [],
   "source": [
    "#!/usr/bin/env python\n",
    "# -*- coding: utf-8 -*-\n",
    "\n",
    "from __future__ import absolute_import, print_function\n",
    "import matplotlib.pyplot as plt\n",
    "import pyopencl as cl\n",
    "import numpy as np\n",
    "from cv2 import resize"
   ]
  },
  {
   "cell_type": "markdown",
   "metadata": {},
   "source": [
    "## Inicializar contexto y cola de ejecución"
   ]
  },
  {
   "cell_type": "code",
   "execution_count": null,
   "metadata": {},
   "outputs": [],
   "source": [
    "ID_P = 0\n",
    "ID_D = 0\n",
    "platforms = cl.get_platforms()\n",
    "devices = [platforms[ID_P].get_devices()[ID_D]]\n",
    "context = cl.Context(devices=devices,properties=[(cl.context_properties.PLATFORM, platforms[ID_P])])\n",
    "context.get_info(cl.context_info.DEVICES)\n",
    "queue = cl.CommandQueue(context, properties=cl.command_queue_properties.OUT_OF_ORDER_EXEC_MODE_ENABLE)\n",
    "queue.get_info(cl.command_queue_info.CONTEXT)"
   ]
  },
  {
   "cell_type": "markdown",
   "metadata": {},
   "source": [
    "## Código fuente y compilación del programa\n",
    "\n",
    "https://en.wikipedia.org/wiki/Sobel_operator\n"
   ]
  },
  {
   "cell_type": "code",
   "execution_count": null,
   "metadata": {},
   "outputs": [],
   "source": [
    "source_file=open(\"sobel.c\",\"r\")\n",
    "\n",
    "kernel = source_file.read()\n",
    "\n",
    "source_file.close()\n",
    "\n",
    "prg = cl.Program(context, kernel)\n",
    "exe = prg.build(options=[])"
   ]
  },
  {
   "cell_type": "markdown",
   "metadata": {},
   "source": [
    "## Cargar imagen de prueba"
   ]
  },
  {
   "cell_type": "code",
   "execution_count": null,
   "metadata": {},
   "outputs": [],
   "source": [
    "size=512\n",
    "host_color = (plt.imread(\"tree.jpg\")/255).astype(np.float32)\n",
    "host_color = resize(host_color,(size,size))\n",
    "\n",
    "plt.figure(figsize=(10,10))\n",
    "plt.imshow(host_color,'gray')\n",
    "plt.show()\n",
    "\n",
    "host_color = np.transpose(host_color, [2, 0, 1]).copy()\n",
    "\n",
    "print(host_color.shape,host_color.dtype )\n"
   ]
  },
  {
   "cell_type": "markdown",
   "metadata": {},
   "source": [
    "## Inicialización de memoria y copia al dispositivo"
   ]
  },
  {
   "cell_type": "code",
   "execution_count": null,
   "metadata": {},
   "outputs": [],
   "source": [
    "device_color = cl.Buffer(context, cl.mem_flags.READ_WRITE, size=host_color.nbytes)\n",
    "device_sobel = cl.Buffer(context, cl.mem_flags.READ_WRITE, size=host_color.nbytes)\n",
    "cl.enqueue_copy(queue, device_color, host_color, is_blocking=False, wait_for=None)\n",
    "cl.enqueue_fill_buffer(queue, device_sobel, pattern=np.float32(0),size=4,offset=0)"
   ]
  },
  {
   "cell_type": "markdown",
   "metadata": {},
   "source": [
    "## Ejecución del kernel"
   ]
  },
  {
   "cell_type": "code",
   "execution_count": null,
   "metadata": {},
   "outputs": [],
   "source": [
    "\n",
    "host_color.fill(0.)            \n",
    "exe_event=exe.sobel(queue, (size-2,size-2,3), None, device_color, device_sobel, wait_for=None)\n",
    "cl.enqueue_copy(queue, host_color, device_sobel, is_blocking=True, wait_for=None)\n",
    "\n",
    "image = np.transpose(host_color, [1, 2, 0]).copy()\n",
    "\n",
    "\n",
    "print(image.min(),image.max())\n",
    "\n",
    "plt.figure(figsize=(10,10))\n",
    "plt.imshow(image)\n",
    "plt.show()"
   ]
  }
 ],
 "metadata": {
  "kernelspec": {
   "display_name": "Python 3",
   "language": "python",
   "name": "python3"
  },
  "language_info": {
   "codemirror_mode": {
    "name": "ipython",
    "version": 3
   },
   "file_extension": ".py",
   "mimetype": "text/x-python",
   "name": "python",
   "nbconvert_exporter": "python",
   "pygments_lexer": "ipython3",
   "version": "3.7.4"
  }
 },
 "nbformat": 4,
 "nbformat_minor": 4
}
