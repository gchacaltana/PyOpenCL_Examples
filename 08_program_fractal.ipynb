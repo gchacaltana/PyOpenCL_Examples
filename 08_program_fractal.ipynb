{
 "cells": [
  {
   "cell_type": "code",
   "execution_count": null,
   "metadata": {},
   "outputs": [],
   "source": [
    "#!/usr/bin/env python\n",
    "# -*- coding: utf-8 -*-\n",
    "\n",
    "from __future__ import absolute_import, print_function\n",
    "import matplotlib.pyplot as plt\n",
    "import pyopencl as cl\n",
    "import numpy as np\n"
   ]
  },
  {
   "cell_type": "markdown",
   "metadata": {},
   "source": [
    "## Inicializar contexto y cola de ejecución"
   ]
  },
  {
   "cell_type": "code",
   "execution_count": null,
   "metadata": {},
   "outputs": [],
   "source": [
    "ID_P = 1\n",
    "ID_D = 0\n",
    "platforms = cl.get_platforms()\n",
    "devices = [platforms[ID_P].get_devices()[ID_D]]\n",
    "context = cl.Context(devices=devices,properties=[(cl.context_properties.PLATFORM, platforms[ID_P])])\n",
    "context.get_info(cl.context_info.DEVICES)\n",
    "queue = cl.CommandQueue(context, properties=cl.command_queue_properties.OUT_OF_ORDER_EXEC_MODE_ENABLE)\n",
    "queue.get_info(cl.command_queue_info.CONTEXT)"
   ]
  },
  {
   "cell_type": "markdown",
   "metadata": {},
   "source": [
    "## Código fuente y compilación del programa\n"
   ]
  },
  {
   "cell_type": "code",
   "execution_count": null,
   "metadata": {},
   "outputs": [],
   "source": [
    "source_file=open(\"fractal.c\",\"r\")\n",
    "\n",
    "kernel = source_file.read()\n",
    "\n",
    "source_file.close()\n",
    "\n",
    "prg = cl.Program(context, kernel)\n",
    "exe = prg.build(options=[])"
   ]
  },
  {
   "cell_type": "markdown",
   "metadata": {},
   "source": [
    "## Ejecución del kernel"
   ]
  },
  {
   "cell_type": "code",
   "execution_count": null,
   "metadata": {},
   "outputs": [],
   "source": [
    "host_output = np.zeros((720,1280),dtype=np.float32)\n",
    "device_output = cl.Buffer(context, cl.mem_flags.READ_WRITE, size=host_output.nbytes)   \n",
    "\n",
    "C = [0.279, 0]\n",
    "event=exe.fractal(queue, host_output.shape, None, np.array(C,dtype=np.float32),np.array([40,70],dtype=np.float32),device_output)\n",
    "\n",
    "cl.enqueue_copy(queue, host_output, device_output, is_blocking=True, wait_for=[event])\n",
    "\n",
    "print(host_output.min(),host_output.max())\n",
    "plt.figure(figsize=(30,30))\n",
    "plt.imshow(host_output,'jet',vmin=0,vmax=60)\n",
    "plt.show()\n"
   ]
  }
 ],
 "metadata": {
  "kernelspec": {
   "display_name": "Python 3",
   "language": "python",
   "name": "python3"
  },
  "language_info": {
   "codemirror_mode": {
    "name": "ipython",
    "version": 3
   },
   "file_extension": ".py",
   "mimetype": "text/x-python",
   "name": "python",
   "nbconvert_exporter": "python",
   "pygments_lexer": "ipython3",
   "version": "3.7.4"
  }
 },
 "nbformat": 4,
 "nbformat_minor": 4
}
