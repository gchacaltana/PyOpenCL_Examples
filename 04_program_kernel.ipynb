{
 "cells": [
  {
   "cell_type": "code",
   "execution_count": 1,
   "metadata": {},
   "outputs": [],
   "source": [
    "#!/usr/bin/env python\n",
    "# -*- coding: utf-8 -*-\n",
    "\n",
    "from __future__ import absolute_import, print_function\n",
    "import pyopencl as cl\n",
    "import numpy as np"
   ]
  },
  {
   "cell_type": "markdown",
   "metadata": {},
   "source": [
    "## Seleccionar plataforma y dispositivo a usar"
   ]
  },
  {
   "cell_type": "code",
   "execution_count": 2,
   "metadata": {},
   "outputs": [
    {
     "data": {
      "text/plain": [
       "[<pyopencl.Device 'GeForce RTX 2080' on 'NVIDIA CUDA' at 0x56535e7d9240>]"
      ]
     },
     "execution_count": 2,
     "metadata": {},
     "output_type": "execute_result"
    }
   ],
   "source": [
    "ID_P = 0\n",
    "ID_D = 2\n",
    "platforms = cl.get_platforms()\n",
    "devices = [platforms[ID_P].get_devices()[ID_D]]\n",
    "list(devices)"
   ]
  },
  {
   "cell_type": "markdown",
   "metadata": {},
   "source": [
    "## Crear contexto y mostrar los dispositivos asignados "
   ]
  },
  {
   "cell_type": "code",
   "execution_count": 3,
   "metadata": {},
   "outputs": [],
   "source": [
    "context = cl.Context(devices=devices,properties=[(cl.context_properties.PLATFORM, platforms[ID_P])])"
   ]
  },
  {
   "cell_type": "code",
   "execution_count": 4,
   "metadata": {},
   "outputs": [
    {
     "data": {
      "text/plain": [
       "[<pyopencl.Device 'GeForce RTX 2080' on 'NVIDIA CUDA' at 0x56535e7d9240>]"
      ]
     },
     "execution_count": 4,
     "metadata": {},
     "output_type": "execute_result"
    }
   ],
   "source": [
    "context.get_info(cl.context_info.DEVICES)"
   ]
  },
  {
   "cell_type": "markdown",
   "metadata": {},
   "source": [
    "## Creación de una cola de comandos"
   ]
  },
  {
   "cell_type": "code",
   "execution_count": 5,
   "metadata": {},
   "outputs": [
    {
     "data": {
      "text/plain": [
       "<pyopencl.Context at 0x56535e84cea0 on <pyopencl.Device 'GeForce RTX 2080' on 'NVIDIA CUDA' at 0x56535e7d9240>>"
      ]
     },
     "execution_count": 5,
     "metadata": {},
     "output_type": "execute_result"
    }
   ],
   "source": [
    "queue = cl.CommandQueue(context, properties=None)\n",
    "queue.get_info(cl.command_queue_info.CONTEXT)"
   ]
  },
  {
   "cell_type": "markdown",
   "metadata": {},
   "source": [
    "## Código fuente\n",
    "\n"
   ]
  },
  {
   "cell_type": "code",
   "execution_count": 6,
   "metadata": {},
   "outputs": [],
   "source": [
    "kernel='''\n",
    "__kernel void vector_sum(__global  uchar *a, __global uchar *b, __global uchar *output){\n",
    "    \n",
    "    uint index = get_global_id(0);\n",
    "    output[index]=a[index]+b[index];\n",
    "\n",
    "}\n",
    "'''"
   ]
  },
  {
   "cell_type": "markdown",
   "metadata": {},
   "source": [
    "## Compilación del programa\n",
    "https://www.khronos.org/registry/OpenCL/sdk/1.0/docs/man/xhtml/clCreateProgramWithSource.html<br>\n",
    "https://documen.tician.de/pyopencl/runtime_program.html#program"
   ]
  },
  {
   "cell_type": "code",
   "execution_count": 22,
   "metadata": {},
   "outputs": [],
   "source": [
    "# Crear el programa\n",
    "prg = cl.Program(context, kernel)\n",
    "# compilar\n",
    "exe = prg.build()"
   ]
  },
  {
   "cell_type": "markdown",
   "metadata": {},
   "source": [
    "## Preparación de la memoria"
   ]
  },
  {
   "cell_type": "code",
   "execution_count": 24,
   "metadata": {},
   "outputs": [
    {
     "name": "stdout",
     "output_type": "stream",
     "text": [
      "Host Vector A \n",
      "Total registros:  10485760 \n",
      "Contenido resumen:  [ 11  91 108 ...  16  87  93]\n",
      "\n",
      "\n",
      "Host Vector B \n",
      "Total registros:  10485760 \n",
      "Contenido resumen:  [ 94  36   1 ... 126  25  72]\n"
     ]
    }
   ],
   "source": [
    "\n",
    "host_vector_a = np.random.randint(128, size=10*(2**20), dtype=np.uint8)\n",
    "host_vector_b = np.random.randint(128, size=10*(2**20), dtype=np.uint8)\n",
    "\n",
    "print(\"Host Vector A \\nTotal registros: \",len(host_vector_a),'\\nContenido resumen: ',host_vector_a)\n",
    "print(\"\\n\")\n",
    "print(\"Host Vector B \\nTotal registros: \",len(host_vector_b),'\\nContenido resumen: ',host_vector_b)"
   ]
  },
  {
   "cell_type": "code",
   "execution_count": 30,
   "metadata": {},
   "outputs": [
    {
     "data": {
      "text/plain": [
       "pyopencl._cl.Buffer"
      ]
     },
     "execution_count": 30,
     "metadata": {},
     "output_type": "execute_result"
    }
   ],
   "source": [
    "device_vector_a = cl.Buffer(context, cl.mem_flags.READ_ONLY, size=host_vector_a.nbytes)\n",
    "device_vector_b = cl.Buffer(context, cl.mem_flags.READ_ONLY, size=host_vector_b.nbytes)\n",
    "device_output = cl.Buffer(context, cl.mem_flags.WRITE_ONLY, size=host_vector_b.nbytes)\n",
    "type(device_output)"
   ]
  },
  {
   "cell_type": "code",
   "execution_count": 26,
   "metadata": {},
   "outputs": [
    {
     "data": {
      "text/plain": [
       "<pyopencl._cl.NannyEvent at 0x7f2c88688e90>"
      ]
     },
     "execution_count": 26,
     "metadata": {},
     "output_type": "execute_result"
    }
   ],
   "source": [
    "cl.enqueue_copy(queue, device_vector_a, host_vector_a, wait_for=None)\n",
    "cl.enqueue_copy(queue, device_vector_b, host_vector_b, wait_for=None)"
   ]
  },
  {
   "cell_type": "markdown",
   "metadata": {},
   "source": [
    "## Ejecución del kernel\n",
    "\n",
    "https://www.khronos.org/registry/OpenCL/sdk/1.2/docs/man/xhtml/clEnqueueNDRangeKernel.html<br>\n",
    "https://documen.tician.de/pyopencl/runtime_program.html#pyopencl.Kernel.__call__"
   ]
  },
  {
   "cell_type": "code",
   "execution_count": 31,
   "metadata": {},
   "outputs": [
    {
     "data": {
      "text/plain": [
       "<pyopencl._cl.Event at 0x7f2dac57be30>"
      ]
     },
     "execution_count": 31,
     "metadata": {},
     "output_type": "execute_result"
    }
   ],
   "source": [
    "exe.vector_sum(queue, host_vector_a.shape, None, device_vector_a, device_vector_b, device_output)"
   ]
  },
  {
   "cell_type": "markdown",
   "metadata": {},
   "source": [
    "## Imprimir resultados"
   ]
  },
  {
   "cell_type": "code",
   "execution_count": 32,
   "metadata": {},
   "outputs": [
    {
     "data": {
      "text/plain": [
       "<pyopencl._cl.NannyEvent at 0x7f2c88688830>"
      ]
     },
     "execution_count": 32,
     "metadata": {},
     "output_type": "execute_result"
    }
   ],
   "source": [
    "host_output = np.zeros_like(host_vector_a)\n",
    "cl.enqueue_copy(queue, host_output, device_output)"
   ]
  },
  {
   "cell_type": "code",
   "execution_count": 33,
   "metadata": {},
   "outputs": [],
   "source": [
    "values=np.equal(host_vector_a+host_vector_b,host_output)"
   ]
  },
  {
   "cell_type": "code",
   "execution_count": 34,
   "metadata": {},
   "outputs": [
    {
     "name": "stdout",
     "output_type": "stream",
     "text": [
      "10485760\n",
      "610\n"
     ]
    }
   ],
   "source": [
    "print(host_output.shape[0])\n",
    "print(values.sum())"
   ]
  },
  {
   "cell_type": "code",
   "execution_count": null,
   "metadata": {},
   "outputs": [],
   "source": []
  }
 ],
 "metadata": {
  "kernelspec": {
   "display_name": "Python 3",
   "language": "python",
   "name": "python3"
  },
  "language_info": {
   "codemirror_mode": {
    "name": "ipython",
    "version": 3
   },
   "file_extension": ".py",
   "mimetype": "text/x-python",
   "name": "python",
   "nbconvert_exporter": "python",
   "pygments_lexer": "ipython3",
   "version": "3.7.4"
  }
 },
 "nbformat": 4,
 "nbformat_minor": 4
}
