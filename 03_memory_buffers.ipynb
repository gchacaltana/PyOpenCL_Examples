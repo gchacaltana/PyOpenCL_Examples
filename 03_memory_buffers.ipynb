{
 "cells": [
  {
   "cell_type": "code",
   "execution_count": 1,
   "metadata": {},
   "outputs": [],
   "source": [
    "#!/usr/bin/env python\n",
    "# -*- coding: utf-8 -*-\n",
    "\n",
    "from __future__ import absolute_import, print_function\n",
    "from timeit import default_timer as timer\n",
    "import pyopencl as cl\n",
    "import numpy as np"
   ]
  },
  {
   "cell_type": "markdown",
   "metadata": {},
   "source": [
    "## Seleccionar plataforma y dispositivo a usar"
   ]
  },
  {
   "cell_type": "code",
   "execution_count": 4,
   "metadata": {},
   "outputs": [
    {
     "data": {
      "text/plain": [
       "[<pyopencl.Device 'GeForce RTX 2080' on 'NVIDIA CUDA' at 0x556189e92690>]"
      ]
     },
     "execution_count": 4,
     "metadata": {},
     "output_type": "execute_result"
    }
   ],
   "source": [
    "ID_P = 0\n",
    "ID_D = 2\n",
    "platforms = cl.get_platforms()\n",
    "devices = [platforms[ID_P].get_devices()[ID_D]]\n",
    "list(devices)"
   ]
  },
  {
   "cell_type": "markdown",
   "metadata": {},
   "source": [
    "## Crear contexto y mostrar los dispositivos asignados "
   ]
  },
  {
   "cell_type": "code",
   "execution_count": 3,
   "metadata": {},
   "outputs": [
    {
     "data": {
      "text/plain": [
       "[<pyopencl.Device 'GeForce RTX 2080' on 'NVIDIA CUDA' at 0x556189e92690>]"
      ]
     },
     "execution_count": 3,
     "metadata": {},
     "output_type": "execute_result"
    }
   ],
   "source": [
    "context = cl.Context(devices=devices,properties=[(cl.context_properties.PLATFORM, platforms[0])])\n",
    "context.get_info(cl.context_info.DEVICES)"
   ]
  },
  {
   "cell_type": "markdown",
   "metadata": {},
   "source": [
    "## Creación de una cola de comandos"
   ]
  },
  {
   "cell_type": "code",
   "execution_count": 5,
   "metadata": {},
   "outputs": [
    {
     "data": {
      "text/plain": [
       "<pyopencl.Context at 0x556189ef79c0 on <pyopencl.Device 'GeForce RTX 2080' on 'NVIDIA CUDA' at 0x556189e92690>>"
      ]
     },
     "execution_count": 5,
     "metadata": {},
     "output_type": "execute_result"
    }
   ],
   "source": [
    "queue = cl.CommandQueue(context, device=None, properties=None)\n",
    "queue.get_info(cl.command_queue_info.CONTEXT)"
   ]
  },
  {
   "cell_type": "markdown",
   "metadata": {},
   "source": [
    "## Creación del buffer en el host"
   ]
  },
  {
   "cell_type": "markdown",
   "metadata": {},
   "source": [
    "Crear un buffer de 100 Megabytes"
   ]
  },
  {
   "cell_type": "code",
   "execution_count": 6,
   "metadata": {},
   "outputs": [
    {
     "name": "stdout",
     "output_type": "stream",
     "text": [
      "100.0 MB\n"
     ]
    }
   ],
   "source": [
    "host_buffer = np.random.randint(255, size=100*(2**20),dtype=np.uint8)\n",
    "print(host_buffer.nbytes/(2**20),'MB')"
   ]
  },
  {
   "cell_type": "markdown",
   "metadata": {},
   "source": [
    "## Creación del buffer en el contexto\n",
    "\n",
    "https://www.khronos.org/registry/OpenCL/sdk/1.0/docs/man/xhtml/clCreateBuffer.html<br>\n",
    "https://documen.tician.de/pyopencl/runtime_memory.html#buffer<br><br>\n",
    "Aqui se esta solicitando espacio de memoria en el dispositivo asociado al contexto.<br>\n",
    "Será del tamaño del buffer en el host (100 MB)"
   ]
  },
  {
   "cell_type": "code",
   "execution_count": 7,
   "metadata": {},
   "outputs": [
    {
     "name": "stdout",
     "output_type": "stream",
     "text": [
      "<pyopencl._cl.Buffer object at 0x7f45ec2d5e90>\n"
     ]
    }
   ],
   "source": [
    "device_buffer = cl.Buffer(context, cl.mem_flags.READ_WRITE, size=host_buffer.nbytes)\n",
    "print(device_buffer)"
   ]
  },
  {
   "cell_type": "markdown",
   "metadata": {},
   "source": [
    "## Copia del host al dispositivo\n",
    "\n",
    "https://www.khronos.org/registry/OpenCL/sdk/1.2/docs/man/xhtml/clEnqueueCopyBuffer.html<br>\n",
    "https://documen.tician.de/pyopencl/runtime_memory.html#pyopencl.enqueue_copy<br><br>\n",
    "\n",
    "Aqui se transfiere lo que hay en el buffer en el host (RAM) al buffer en el dispositivo (VRAM)."
   ]
  },
  {
   "cell_type": "code",
   "execution_count": 8,
   "metadata": {},
   "outputs": [
    {
     "data": {
      "text/plain": [
       "<pyopencl._cl.NannyEvent at 0x7f45e0004110>"
      ]
     },
     "execution_count": 8,
     "metadata": {},
     "output_type": "execute_result"
    }
   ],
   "source": [
    "cl.enqueue_copy(queue, device_buffer, host_buffer, is_blocking=True, wait_for=None)"
   ]
  },
  {
   "cell_type": "markdown",
   "metadata": {},
   "source": [
    "## Copia del dispositivo al host\n",
    "Aqui se transfiere lo que hay en el buffer en el dispositivo (VRAM) a un nuevo buffer en el host (RAM)"
   ]
  },
  {
   "cell_type": "code",
   "execution_count": 9,
   "metadata": {},
   "outputs": [
    {
     "name": "stdout",
     "output_type": "stream",
     "text": [
      "0\n",
      "13316828359\n",
      "13316828359\n"
     ]
    }
   ],
   "source": [
    "host_buffer2 = np.zeros_like(host_buffer)\n",
    "print(host_buffer2.sum()) #El buffer esta en 0's\n",
    "\n",
    "cl.enqueue_copy(queue, host_buffer2, device_buffer, is_blocking=True, wait_for=None)\n",
    "\n",
    "#ambos buffers deben sumar lo mismo\n",
    "print(host_buffer.sum())\n",
    "print(host_buffer2.sum())\n",
    "\n",
    "#device_buffer.release()"
   ]
  },
  {
   "cell_type": "markdown",
   "metadata": {},
   "source": [
    "# Copia en Creación"
   ]
  },
  {
   "cell_type": "code",
   "execution_count": 10,
   "metadata": {},
   "outputs": [],
   "source": [
    "device_buffer2 = cl.Buffer(context, cl.mem_flags.READ_WRITE |  cl.mem_flags.COPY_HOST_PTR, hostbuf=host_buffer)"
   ]
  },
  {
   "cell_type": "code",
   "execution_count": 11,
   "metadata": {},
   "outputs": [
    {
     "name": "stdout",
     "output_type": "stream",
     "text": [
      "0\n",
      "13316828359\n",
      "13316828359\n"
     ]
    }
   ],
   "source": [
    "host_buffer2.fill(0)\n",
    "print(host_buffer2.sum()) #El buffer esta en 0's\n",
    "\n",
    "cl.enqueue_copy(queue, host_buffer2, device_buffer2, is_blocking=True, wait_for=None)\n",
    "\n",
    "#ambos buffers deben sumar lo mismo\n",
    "print(host_buffer.sum())\n",
    "print(host_buffer2.sum())"
   ]
  },
  {
   "cell_type": "code",
   "execution_count": 12,
   "metadata": {},
   "outputs": [
    {
     "name": "stdout",
     "output_type": "stream",
     "text": [
      "9327.80 MB/s\n"
     ]
    }
   ],
   "source": [
    "speeds=np.zeros(10)\n",
    "for i in range(speeds.shape[0]):\n",
    "    start = timer()\n",
    "    cl.enqueue_copy(queue, device_buffer, host_buffer, is_blocking=True, wait_for=None)\n",
    "    end = timer()\n",
    "    speeds[i]=1/(end - start)*100\n",
    "    \n",
    "print(\"{:.2f} MB/s\".format(speeds.mean()))"
   ]
  },
  {
   "cell_type": "code",
   "execution_count": 13,
   "metadata": {},
   "outputs": [
    {
     "name": "stdout",
     "output_type": "stream",
     "text": [
      "4350.86 MB/s\n"
     ]
    }
   ],
   "source": [
    "speeds=np.zeros(10)\n",
    "for i in range(speeds.shape[0]):\n",
    "    start = timer()\n",
    "    cl.enqueue_copy(queue, host_buffer, device_buffer, is_blocking=True, wait_for=None)\n",
    "    end = timer()\n",
    "    speeds[i]=1/(end - start)*100\n",
    "    \n",
    "print(\"{:.2f} MB/s\".format(speeds.mean()))"
   ]
  },
  {
   "cell_type": "code",
   "execution_count": null,
   "metadata": {},
   "outputs": [],
   "source": []
  }
 ],
 "metadata": {
  "kernelspec": {
   "display_name": "Python 3",
   "language": "python",
   "name": "python3"
  },
  "language_info": {
   "codemirror_mode": {
    "name": "ipython",
    "version": 3
   },
   "file_extension": ".py",
   "mimetype": "text/x-python",
   "name": "python",
   "nbconvert_exporter": "python",
   "pygments_lexer": "ipython3",
   "version": "3.7.4"
  }
 },
 "nbformat": 4,
 "nbformat_minor": 4
}
