{
 "cells": [
  {
   "cell_type": "code",
   "execution_count": 1,
   "metadata": {},
   "outputs": [],
   "source": [
    "#!/usr/bin/env python\n",
    "# -*- coding: utf-8 -*-\n",
    "\n",
    "from __future__ import absolute_import, print_function\n",
    "from tabulate import tabulate\n",
    "import pyopencl as cl\n",
    "import numpy as np"
   ]
  },
  {
   "cell_type": "markdown",
   "metadata": {},
   "source": [
    "## Seleccionar plataforma, dispositivo y crear contexto"
   ]
  },
  {
   "cell_type": "code",
   "execution_count": 2,
   "metadata": {},
   "outputs": [
    {
     "data": {
      "text/plain": [
       "[<pyopencl.Device 'pthread-AMD Ryzen Threadripper 1950X 16-Core Processor' on 'Portable Computing Language' at 0x560acbbcb390>]"
      ]
     },
     "execution_count": 2,
     "metadata": {},
     "output_type": "execute_result"
    }
   ],
   "source": [
    "ID_P = 1\n",
    "ID_D = 0\n",
    "platforms = cl.get_platforms()\n",
    "devices = [platforms[ID_P].get_devices()[ID_D]]\n",
    "context = cl.Context(devices=devices,properties=[(cl.context_properties.PLATFORM, platforms[ID_P])])\n",
    "context.get_info(cl.context_info.DEVICES)"
   ]
  },
  {
   "cell_type": "markdown",
   "metadata": {},
   "source": [
    "## Creación de una cola de comandos"
   ]
  },
  {
   "cell_type": "code",
   "execution_count": 3,
   "metadata": {},
   "outputs": [
    {
     "data": {
      "text/plain": [
       "<pyopencl.Context at 0x560acbb02a80 on <pyopencl.Device 'pthread-AMD Ryzen Threadripper 1950X 16-Core Processor' on 'Portable Computing Language' at 0x560acbbcb390>>"
      ]
     },
     "execution_count": 3,
     "metadata": {},
     "output_type": "execute_result"
    }
   ],
   "source": [
    "queue = cl.CommandQueue(context, properties=None)\n",
    "queue.get_info(cl.command_queue_info.CONTEXT)"
   ]
  },
  {
   "cell_type": "markdown",
   "metadata": {},
   "source": [
    "## Compilación del programa\n",
    "\n",
    "https://www.khronos.org/registry/OpenCL/sdk/1.2/docs/man/xhtml/barrier.html"
   ]
  },
  {
   "cell_type": "code",
   "execution_count": 4,
   "metadata": {},
   "outputs": [],
   "source": [
    "source_file=open(\"minmax.c\",\"r\")\n",
    "\n",
    "kernel = source_file.read()\n",
    "\n",
    "source_file.close()\n",
    "\n",
    "prg = cl.Program(context, kernel)\n",
    "exe = prg.build(options=[])"
   ]
  },
  {
   "cell_type": "markdown",
   "metadata": {},
   "source": [
    "## Imprimir alguna información util"
   ]
  },
  {
   "cell_type": "code",
   "execution_count": 5,
   "metadata": {},
   "outputs": [
    {
     "name": "stdout",
     "output_type": "stream",
     "text": [
      "╒═════════════════╤═══════════════════════╤═══════════════════════╤══════════════════╕\n",
      "│   Compute Units │   MAX_WORK_GROUP_SIZE │ MAX_WORK_ITEM_SIZES   │ LOCAL_MEM_SIZE   │\n",
      "╞═════════════════╪═══════════════════════╪═══════════════════════╪══════════════════╡\n",
      "│              32 │                  4096 │ [4096, 4096, 4096]    │ 4096 KB          │\n",
      "╘═════════════════╧═══════════════════════╧═══════════════════════╧══════════════════╛\n"
     ]
    }
   ],
   "source": [
    "CU=context.get_info(cl.context_info.DEVICES)[0].get_info(cl.device_info.MAX_COMPUTE_UNITS)\n",
    "WGS=context.get_info(cl.context_info.DEVICES)[0].get_info(cl.device_info.MAX_WORK_GROUP_SIZE)\n",
    "WIS=context.get_info(cl.context_info.DEVICES)[0].get_info(cl.device_info.MAX_WORK_ITEM_SIZES)\n",
    "LMS=context.get_info(cl.context_info.DEVICES)[0].get_info(cl.device_info.LOCAL_MEM_SIZE)\n",
    "\n",
    "LMS ='{:.0f} KB'.format(LMS/1024)\n",
    "\n",
    "\n",
    "text=tabulate([[CU,WGS,WIS,LMS]], headers=['Compute Units', 'MAX_WORK_GROUP_SIZE', 'MAX_WORK_ITEM_SIZES','LOCAL_MEM_SIZE'], tablefmt=\"fancy_grid\")\n",
    "\n",
    "print(text)"
   ]
  },
  {
   "cell_type": "markdown",
   "metadata": {},
   "source": [
    "## Iniciar buffers de memoria"
   ]
  },
  {
   "cell_type": "code",
   "execution_count": 8,
   "metadata": {},
   "outputs": [],
   "source": [
    "host_data = np.random.random_sample((2**19,)).astype(np.float32)\n",
    "host_outputs= np.zeros( (host_data.shape[0]//1024)*2, dtype=np.float32)\n",
    "host_index = np.uint32(0)"
   ]
  },
  {
   "cell_type": "code",
   "execution_count": 9,
   "metadata": {},
   "outputs": [],
   "source": [
    "device_data = cl.Buffer(context, cl.mem_flags.READ_WRITE, size=host_data.nbytes)\n",
    "device_temp = cl.Buffer(context, cl.mem_flags.READ_WRITE, size=host_outputs.nbytes)\n",
    "device_index = cl.Buffer(context, cl.mem_flags.READ_WRITE, size=host_index.nbytes)"
   ]
  },
  {
   "cell_type": "code",
   "execution_count": 10,
   "metadata": {},
   "outputs": [
    {
     "data": {
      "text/plain": [
       "<pyopencl._cl.Event at 0x7f4b800a8c50>"
      ]
     },
     "execution_count": 10,
     "metadata": {},
     "output_type": "execute_result"
    }
   ],
   "source": [
    "cl.enqueue_copy(queue, device_data, host_data, wait_for=None)\n",
    "cl.enqueue_fill_buffer(queue, device_temp, pattern=np.float32(0),size=4,offset=0)\n",
    "cl.enqueue_fill_buffer(queue, device_index, pattern=np.uint32(0),size=4,offset=0)"
   ]
  },
  {
   "cell_type": "markdown",
   "metadata": {},
   "source": [
    "## Ejecutar el Kernel"
   ]
  },
  {
   "cell_type": "code",
   "execution_count": 11,
   "metadata": {},
   "outputs": [
    {
     "data": {
      "text/plain": [
       "<pyopencl._cl.Event at 0x7f4b800aff50>"
      ]
     },
     "execution_count": 11,
     "metadata": {},
     "output_type": "execute_result"
    }
   ],
   "source": [
    "exe.minmax(queue, host_data.shape, [1024], device_data, device_temp, device_index)"
   ]
  },
  {
   "cell_type": "code",
   "execution_count": 12,
   "metadata": {},
   "outputs": [
    {
     "name": "stdout",
     "output_type": "stream",
     "text": [
      "0.9999998 9.828495e-08\n",
      "0.9999998 9.828495e-08\n"
     ]
    }
   ],
   "source": [
    "\n",
    "host_output = np.zeros((1024),dtype=np.float32)\n",
    "cl.enqueue_copy(queue, host_output, device_temp)\n",
    "print(host_output[0], host_output[1])\n",
    "print(host_data.max(),host_data.min())"
   ]
  }
 ],
 "metadata": {
  "kernelspec": {
   "display_name": "Python 3",
   "language": "python",
   "name": "python3"
  },
  "language_info": {
   "codemirror_mode": {
    "name": "ipython",
    "version": 3
   },
   "file_extension": ".py",
   "mimetype": "text/x-python",
   "name": "python",
   "nbconvert_exporter": "python",
   "pygments_lexer": "ipython3",
   "version": "3.7.4"
  }
 },
 "nbformat": 4,
 "nbformat_minor": 4
}
