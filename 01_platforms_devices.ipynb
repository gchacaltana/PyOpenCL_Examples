{
 "cells": [
  {
   "cell_type": "code",
   "execution_count": null,
   "metadata": {},
   "outputs": [],
   "source": [
    "#!/usr/bin/env python\n",
    "# -*- coding: utf-8 -*-\n",
    "\n",
    "from __future__ import absolute_import, print_function\n",
    "from tabulate import tabulate\n",
    "import pyopencl as cl"
   ]
  },
  {
   "cell_type": "markdown",
   "metadata": {},
   "source": [
    "## Extraer las plataformas disponibles"
   ]
  },
  {
   "cell_type": "code",
   "execution_count": null,
   "metadata": {},
   "outputs": [],
   "source": [
    "platforms = cl.get_platforms()"
   ]
  },
  {
   "cell_type": "markdown",
   "metadata": {},
   "source": [
    "## Extraer los dispositivos de cada Plataforma"
   ]
  },
  {
   "cell_type": "code",
   "execution_count": null,
   "metadata": {},
   "outputs": [],
   "source": [
    "\n",
    "for i,p in enumerate(platforms):\n",
    "    \n",
    "    print('\\n',i,p.name)\n",
    "    data=[]\n",
    "    for j,d in enumerate(p.get_devices()):  \n",
    "        \n",
    "        data.append([j,d.get_info(cl.device_info.NAME),\n",
    "                     d.get_info(cl.device_info.OPENCL_C_VERSION),\n",
    "                     d.get_info(cl.device_info.MAX_COMPUTE_UNITS),\n",
    "                     d.get_info(cl.device_info.GLOBAL_MEM_SIZE)/(2<<29),\n",
    "                     d.get_info(cl.device_info.MAX_MEM_ALLOC_SIZE)/(2<<29)])\n",
    "    text=tabulate(data, headers=['id', 'name', 'opencl_c_version','max_compute_units','global_mem_size (GB)','max_mem_alloc_size (GB)'], tablefmt=\"fancy_grid\")    \n",
    "    print(text)"
   ]
  },
  {
   "cell_type": "markdown",
   "metadata": {},
   "source": [
    "### Banderas de la plataforma\n",
    "https://www.khronos.org/registry/OpenCL/sdk/1.2/docs/man/xhtml/clGetPlatformInfo.html<br>\n",
    "https://documen.tician.de/pyopencl/runtime_const.html#platform_info \n",
    "\n",
    "### Banderas del dispositivo\n",
    "\n",
    "https://www.khronos.org/registry/OpenCL/sdk/1.2/docs/man/xhtml/clGetDeviceInfo.html <br>\n",
    "https://documen.tician.de/pyopencl/runtime_const.html#device_info"
   ]
  }
 ],
 "metadata": {
  "kernelspec": {
   "display_name": "Python 3",
   "language": "python",
   "name": "python3"
  },
  "language_info": {
   "codemirror_mode": {
    "name": "ipython",
    "version": 3
   },
   "file_extension": ".py",
   "mimetype": "text/x-python",
   "name": "python",
   "nbconvert_exporter": "python",
   "pygments_lexer": "ipython3",
   "version": "3.7.4"
  }
 },
 "nbformat": 4,
 "nbformat_minor": 4
}
