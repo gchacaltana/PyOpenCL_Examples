{
 "cells": [
  {
   "cell_type": "code",
   "execution_count": 1,
   "metadata": {},
   "outputs": [],
   "source": [
    "#!/usr/bin/env python\n",
    "# -*- coding: utf-8 -*-\n",
    "\n",
    "from __future__ import absolute_import, print_function\n",
    "from tabulate import tabulate\n",
    "import pyopencl as cl"
   ]
  },
  {
   "cell_type": "markdown",
   "metadata": {},
   "source": [
    "## Extraer las plataformas disponibles"
   ]
  },
  {
   "cell_type": "code",
   "execution_count": 3,
   "metadata": {},
   "outputs": [
    {
     "data": {
      "text/plain": [
       "[<pyopencl.Platform 'NVIDIA CUDA' at 0x5633f8d1c7b0>,\n",
       " <pyopencl.Platform 'Portable Computing Language' at 0x7f3f8ad1c020>]"
      ]
     },
     "execution_count": 3,
     "metadata": {},
     "output_type": "execute_result"
    }
   ],
   "source": [
    "platforms = cl.get_platforms()\n",
    "list(platforms)"
   ]
  },
  {
   "cell_type": "markdown",
   "metadata": {},
   "source": [
    "## Extraer los dispositivos de cada Plataforma"
   ]
  },
  {
   "cell_type": "code",
   "execution_count": 4,
   "metadata": {},
   "outputs": [
    {
     "name": "stdout",
     "output_type": "stream",
     "text": [
      "\n",
      " 0 NVIDIA CUDA\n",
      "╒══════╤══════════════════╤════════════════════╤═════════════════════╤════════════════════════╤═══════════════════════════╕\n",
      "│   id │ name             │ opencl_c_version   │   max_compute_units │   global_mem_size (GB) │   max_mem_alloc_size (GB) │\n",
      "╞══════╪══════════════════╪════════════════════╪═════════════════════╪════════════════════════╪═══════════════════════════╡\n",
      "│    0 │ GeForce RTX 2080 │ OpenCL C 1.2       │                  46 │                7.76593 │                   1.94148 │\n",
      "├──────┼──────────────────┼────────────────────┼─────────────────────┼────────────────────────┼───────────────────────────┤\n",
      "│    1 │ GeForce RTX 2080 │ OpenCL C 1.2       │                  46 │                7.76593 │                   1.94148 │\n",
      "├──────┼──────────────────┼────────────────────┼─────────────────────┼────────────────────────┼───────────────────────────┤\n",
      "│    2 │ GeForce RTX 2080 │ OpenCL C 1.2       │                  46 │                7.76099 │                   1.94025 │\n",
      "╘══════╧══════════════════╧════════════════════╧═════════════════════╧════════════════════════╧═══════════════════════════╛\n",
      "\n",
      " 1 Portable Computing Language\n",
      "╒══════╤════════════════════════════════════════════════════════╤════════════════════╤═════════════════════╤════════════════════════╤═══════════════════════════╕\n",
      "│   id │ name                                                   │ opencl_c_version   │   max_compute_units │   global_mem_size (GB) │   max_mem_alloc_size (GB) │\n",
      "╞══════╪════════════════════════════════════════════════════════╪════════════════════╪═════════════════════╪════════════════════════╪═══════════════════════════╡\n",
      "│    0 │ pthread-AMD Ryzen Threadripper 1950X 16-Core Processor │ OpenCL C 1.2 pocl  │                  32 │                123.829 │                        32 │\n",
      "╘══════╧════════════════════════════════════════════════════════╧════════════════════╧═════════════════════╧════════════════════════╧═══════════════════════════╛\n"
     ]
    }
   ],
   "source": [
    "\n",
    "for i,p in enumerate(platforms):\n",
    "    \n",
    "    print('\\n',i,p.name)\n",
    "    data=[]\n",
    "    for j,d in enumerate(p.get_devices()):  \n",
    "        \n",
    "        data.append([j,d.get_info(cl.device_info.NAME),\n",
    "                     d.get_info(cl.device_info.OPENCL_C_VERSION),\n",
    "                     d.get_info(cl.device_info.MAX_COMPUTE_UNITS),\n",
    "                     d.get_info(cl.device_info.GLOBAL_MEM_SIZE)/(2<<29),\n",
    "                     d.get_info(cl.device_info.MAX_MEM_ALLOC_SIZE)/(2<<29)])\n",
    "    text=tabulate(data, headers=['id', 'name', 'opencl_c_version','max_compute_units','global_mem_size (GB)','max_mem_alloc_size (GB)'], tablefmt=\"fancy_grid\")    \n",
    "    print(text)"
   ]
  },
  {
   "cell_type": "markdown",
   "metadata": {},
   "source": [
    "### Banderas de la plataforma\n",
    "https://www.khronos.org/registry/OpenCL/sdk/1.2/docs/man/xhtml/clGetPlatformInfo.html<br>\n",
    "https://documen.tician.de/pyopencl/runtime_const.html#platform_info \n",
    "\n",
    "### Banderas del dispositivo\n",
    "\n",
    "https://www.khronos.org/registry/OpenCL/sdk/1.2/docs/man/xhtml/clGetDeviceInfo.html <br>\n",
    "https://documen.tician.de/pyopencl/runtime_const.html#device_info"
   ]
  }
 ],
 "metadata": {
  "kernelspec": {
   "display_name": "Python 3",
   "language": "python",
   "name": "python3"
  },
  "language_info": {
   "codemirror_mode": {
    "name": "ipython",
    "version": 3
   },
   "file_extension": ".py",
   "mimetype": "text/x-python",
   "name": "python",
   "nbconvert_exporter": "python",
   "pygments_lexer": "ipython3",
   "version": "3.7.4"
  }
 },
 "nbformat": 4,
 "nbformat_minor": 4
}
